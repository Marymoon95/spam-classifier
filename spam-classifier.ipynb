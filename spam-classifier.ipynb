{
 "cells": [
  {
   "cell_type": "markdown",
   "metadata": {},
   "source": [
    "# SMS Messages Classification"
   ]
  },
  {
   "cell_type": "markdown",
   "metadata": {},
   "source": [
    "Using the provided data, create a supervised learning model that will accurately classify which messages are spam."
   ]
  },
  {
   "cell_type": "markdown",
   "metadata": {},
   "source": [
    "## Import software libraries and load the dataset"
   ]
  },
  {
   "cell_type": "code",
   "execution_count": 1,
   "metadata": {},
   "outputs": [],
   "source": [
    "# Library import\n",
    "\n",
    "import matplotlib.pyplot as plt\n",
    "import numpy as np\n",
    "import os\n",
    "import pandas as pd\n",
    "import re\n",
    "import string\n",
    "\n",
    "from keras.layers import Dense, Embedding, LSTM \n",
    "from keras.models import Sequential\n",
    "from keras.preprocessing.text import Tokenizer\n",
    "from imblearn.over_sampling import SMOTE\n",
    "from nltk import word_tokenize\n",
    "from nltk.corpus import stopwords \n",
    "from nltk.stem import WordNetLemmatizer\n",
    "from sklearn import svm\n",
    "from sklearn.ensemble import RandomForestClassifier\n",
    "from sklearn.feature_extraction.text import TfidfVectorizer\n",
    "from sklearn.metrics import confusion_matrix, classification_report\n",
    "from sklearn.model_selection import GridSearchCV, RandomizedSearchCV, train_test_split\n",
    "from sklearn.naive_bayes import MultinomialNB\n",
    "from tensorflow.keras.preprocessing.sequence import pad_sequences\n",
    "from time import time "
   ]
  },
  {
   "cell_type": "markdown",
   "metadata": {},
   "source": [
    "Data were downloaded in txt format from https://archive.ics.uci.edu/ml/datasets/SMS+Spam+Collection."
   ]
  },
  {
   "cell_type": "code",
   "execution_count": 2,
   "metadata": {},
   "outputs": [],
   "source": [
    "# Load the dataset\n",
    "\n",
    "data_root_dir = '.'\n",
    "data_path = os.path.join(data_root_dir, 'smsspamcollection')\n",
    "data_file = os.path.join(data_path, 'SMSSpamCollection')\n",
    "data = pd.read_csv(data_file, sep ='\\t',names=['label', 'message'])"
   ]
  },
  {
   "cell_type": "markdown",
   "metadata": {},
   "source": [
    "## Get acquainted with the dataset"
   ]
  },
  {
   "cell_type": "code",
   "execution_count": 3,
   "metadata": {},
   "outputs": [
    {
     "name": "stdout",
     "output_type": "stream",
     "text": [
      "<class 'pandas.core.frame.DataFrame'>\n",
      "RangeIndex: 5572 entries, 0 to 5571\n",
      "Data columns (total 2 columns):\n",
      " #   Column   Non-Null Count  Dtype \n",
      "---  ------   --------------  ----- \n",
      " 0   label    5572 non-null   object\n",
      " 1   message  5572 non-null   object\n",
      "dtypes: object(2)\n",
      "memory usage: 87.2+ KB\n"
     ]
    }
   ],
   "source": [
    "# View features and data types\n",
    "\n",
    "data.info()"
   ]
  },
  {
   "cell_type": "markdown",
   "metadata": {},
   "source": [
    "The results show that the dataset has a total of 5572 records and that no column has a null value."
   ]
  },
  {
   "cell_type": "code",
   "execution_count": 4,
   "metadata": {},
   "outputs": [
    {
     "data": {
      "text/html": [
       "<div>\n",
       "<style scoped>\n",
       "    .dataframe tbody tr th:only-of-type {\n",
       "        vertical-align: middle;\n",
       "    }\n",
       "\n",
       "    .dataframe tbody tr th {\n",
       "        vertical-align: top;\n",
       "    }\n",
       "\n",
       "    .dataframe thead th {\n",
       "        text-align: right;\n",
       "    }\n",
       "</style>\n",
       "<table border=\"1\" class=\"dataframe\">\n",
       "  <thead>\n",
       "    <tr style=\"text-align: right;\">\n",
       "      <th></th>\n",
       "      <th>label</th>\n",
       "      <th>message</th>\n",
       "    </tr>\n",
       "  </thead>\n",
       "  <tbody>\n",
       "    <tr>\n",
       "      <th>0</th>\n",
       "      <td>ham</td>\n",
       "      <td>Go until jurong point, crazy.. Available only ...</td>\n",
       "    </tr>\n",
       "    <tr>\n",
       "      <th>1</th>\n",
       "      <td>ham</td>\n",
       "      <td>Ok lar... Joking wif u oni...</td>\n",
       "    </tr>\n",
       "    <tr>\n",
       "      <th>2</th>\n",
       "      <td>spam</td>\n",
       "      <td>Free entry in 2 a wkly comp to win FA Cup fina...</td>\n",
       "    </tr>\n",
       "    <tr>\n",
       "      <th>3</th>\n",
       "      <td>ham</td>\n",
       "      <td>U dun say so early hor... U c already then say...</td>\n",
       "    </tr>\n",
       "    <tr>\n",
       "      <th>4</th>\n",
       "      <td>ham</td>\n",
       "      <td>Nah I don't think he goes to usf, he lives aro...</td>\n",
       "    </tr>\n",
       "    <tr>\n",
       "      <th>5</th>\n",
       "      <td>spam</td>\n",
       "      <td>FreeMsg Hey there darling it's been 3 week's n...</td>\n",
       "    </tr>\n",
       "    <tr>\n",
       "      <th>6</th>\n",
       "      <td>ham</td>\n",
       "      <td>Even my brother is not like to speak with me. ...</td>\n",
       "    </tr>\n",
       "    <tr>\n",
       "      <th>7</th>\n",
       "      <td>ham</td>\n",
       "      <td>As per your request 'Melle Melle (Oru Minnamin...</td>\n",
       "    </tr>\n",
       "    <tr>\n",
       "      <th>8</th>\n",
       "      <td>spam</td>\n",
       "      <td>WINNER!! As a valued network customer you have...</td>\n",
       "    </tr>\n",
       "    <tr>\n",
       "      <th>9</th>\n",
       "      <td>spam</td>\n",
       "      <td>Had your mobile 11 months or more? U R entitle...</td>\n",
       "    </tr>\n",
       "  </tbody>\n",
       "</table>\n",
       "</div>"
      ],
      "text/plain": [
       "  label                                            message\n",
       "0   ham  Go until jurong point, crazy.. Available only ...\n",
       "1   ham                      Ok lar... Joking wif u oni...\n",
       "2  spam  Free entry in 2 a wkly comp to win FA Cup fina...\n",
       "3   ham  U dun say so early hor... U c already then say...\n",
       "4   ham  Nah I don't think he goes to usf, he lives aro...\n",
       "5  spam  FreeMsg Hey there darling it's been 3 week's n...\n",
       "6   ham  Even my brother is not like to speak with me. ...\n",
       "7   ham  As per your request 'Melle Melle (Oru Minnamin...\n",
       "8  spam  WINNER!! As a valued network customer you have...\n",
       "9  spam  Had your mobile 11 months or more? U R entitle..."
      ]
     },
     "execution_count": 4,
     "metadata": {},
     "output_type": "execute_result"
    }
   ],
   "source": [
    "# View first 10 records\n",
    "\n",
    "data.head(10)"
   ]
  },
  {
   "cell_type": "markdown",
   "metadata": {},
   "source": [
    "The content of the messages is not clear, in other words the messages contain special characters, upper and lower case letters, numbers. In addition, labels and messages are strings, which is not a format used by machine learning. The message content needs to be cleaned, and the string format needs to be converted."
   ]
  },
  {
   "cell_type": "code",
   "execution_count": 5,
   "metadata": {},
   "outputs": [
    {
     "data": {
      "text/html": [
       "<div>\n",
       "<style scoped>\n",
       "    .dataframe tbody tr th:only-of-type {\n",
       "        vertical-align: middle;\n",
       "    }\n",
       "\n",
       "    .dataframe tbody tr th {\n",
       "        vertical-align: top;\n",
       "    }\n",
       "\n",
       "    .dataframe thead th {\n",
       "        text-align: right;\n",
       "    }\n",
       "</style>\n",
       "<table border=\"1\" class=\"dataframe\">\n",
       "  <thead>\n",
       "    <tr style=\"text-align: right;\">\n",
       "      <th></th>\n",
       "      <th>count</th>\n",
       "      <th>unique</th>\n",
       "      <th>top</th>\n",
       "      <th>freq</th>\n",
       "    </tr>\n",
       "    <tr>\n",
       "      <th>label</th>\n",
       "      <th></th>\n",
       "      <th></th>\n",
       "      <th></th>\n",
       "      <th></th>\n",
       "    </tr>\n",
       "  </thead>\n",
       "  <tbody>\n",
       "    <tr>\n",
       "      <th>ham</th>\n",
       "      <td>4825</td>\n",
       "      <td>4516</td>\n",
       "      <td>Sorry, I'll call later</td>\n",
       "      <td>30</td>\n",
       "    </tr>\n",
       "    <tr>\n",
       "      <th>spam</th>\n",
       "      <td>747</td>\n",
       "      <td>653</td>\n",
       "      <td>Please call our customer service representativ...</td>\n",
       "      <td>4</td>\n",
       "    </tr>\n",
       "  </tbody>\n",
       "</table>\n",
       "</div>"
      ],
      "text/plain": [
       "      count unique                                                top freq\n",
       "label                                                                     \n",
       "ham    4825   4516                             Sorry, I'll call later   30\n",
       "spam    747    653  Please call our customer service representativ...    4"
      ]
     },
     "execution_count": 5,
     "metadata": {},
     "output_type": "execute_result"
    }
   ],
   "source": [
    "# View the number of messages per label\n",
    "\n",
    "data.message.groupby(data.label).describe()"
   ]
  },
  {
   "cell_type": "code",
   "execution_count": 6,
   "metadata": {},
   "outputs": [
    {
     "data": {
      "image/png": "[encoded data removed]",
      "text/plain": [
       "<Figure size 500x500 with 1 Axes>"
      ]
     },
     "metadata": {},
     "output_type": "display_data"
    }
   ],
   "source": [
    "# Visualize the distribution of ham and spam messages in the dataset using a pie plot\n",
    "\n",
    "label_counts = data['label'].value_counts()\n",
    "total = len(data['label'])\n",
    "explode = (0, 0.05)\n",
    "colors = ['#39a78e','#ff4500']\n",
    "\n",
    "fig= plt.figure(figsize=(5,5))\n",
    "\n",
    "# Pie chart\n",
    "\n",
    "plt.pie(\n",
    "    label_counts, \n",
    "    labels=label_counts.index, \n",
    "    autopct=lambda x: '{:.2f}%\\n({:.0f})'.format(x, total*x/100),\n",
    "    colors=colors,\n",
    "    explode=explode, \n",
    "    startangle=60, \n",
    "    textprops={'fontsize': 12}\n",
    ");"
   ]
  },
  {
   "cell_type": "markdown",
   "metadata": {},
   "source": [
    "The result shows that 13.41% of all the messages are \"spam\" while 86.59% of the messages are \"ham\". This indicates that the dataset is not balanced."
   ]
  },
  {
   "cell_type": "markdown",
   "metadata": {},
   "source": [
    "## Data preparation"
   ]
  },
  {
   "cell_type": "markdown",
   "metadata": {},
   "source": [
    "Since the messages are not clean, and the dataset is not balanced, it is necessary to prepare data for machine learning algorithms to reduce the complexity of the feature set and make a more efficient and general algorithm. As part of the preparation, message cleaning, vectorization and dataset balancing will be done. After preprocessing, such a dataset will be used in ML algorithms."
   ]
  },
  {
   "cell_type": "markdown",
   "metadata": {},
   "source": [
    "### Data cleaning"
   ]
  },
  {
   "cell_type": "markdown",
   "metadata": {},
   "source": [
    "The message cleaning process will include the following:\n",
    "- Lowercasing: Converting all letters to lowercase so that words are not treated as different words due to letter case\n",
    "- Removing punctuations: Punctuations do not contribute to our model, so removing them minimizes the variations within texts\n",
    "- Removing numbers: The numbers are removed because they have no impact on the classification of spam or ham messages\n",
    "- Lemmatizing: Reducing all similar words to their root form.\n",
    "- Removing stopwords: Stopwords are commonly used words in a language so they have no weight-age. Since the messages in the dataset are written in English, we use an English dictionary.\n",
    "- Removing extra white space: Performing the above actions leaves extra white space, so it is removed to save memory\n"
   ]
  },
  {
   "cell_type": "code",
   "execution_count": 7,
   "metadata": {},
   "outputs": [],
   "source": [
    "def remove_punctuation(message):\n",
    "    '''Removes punctuation from a message'''\n",
    "    message_without_punct = list()\n",
    "    for char in message:\n",
    "        if char not in string.punctuation:\n",
    "            message_without_punct.append(char)\n",
    "    return ''.join(message_without_punct)\n",
    " \n",
    "def remove_stopwords(message):\n",
    "    '''Removes stopwords from a message'''\n",
    "    stop_words = set(stopwords.words('english'))\n",
    "    message_without_stopwords = list()\n",
    "    for word in message.split():\n",
    "        if word not in stop_words:\n",
    "            message_without_stopwords.append(word)\n",
    "    return ' '.join(message_without_stopwords)  \n",
    "\n",
    "def lemmatize(message):\n",
    "    '''Lemmatizes each word from a message into its inflected form (lemma)'''\n",
    "    wnl = WordNetLemmatizer()\n",
    "    tokens = word_tokenize(message)\n",
    "    tokens_lemmatized = list()\n",
    "    for word in tokens:\n",
    "        lemma = wnl.lemmatize(word)\n",
    "        tokens_lemmatized.append(lemma)\n",
    "    return ' '.join(tokens_lemmatized)\n",
    "\n",
    "def clean_message(message):\n",
    "    '''Executes all cleaning actions on a given message'''\n",
    "    message = message.lower() # lowercasing\n",
    "    message = remove_punctuation(message) # remove punctuation\n",
    "    message = re.sub(pattern=r'\\d+', repl='', string=message) # remove numbers\n",
    "    message = re.sub(pattern=r'\\s+', repl=' ', string=message) # remove extra white space\n",
    "    message = lemmatize(message) # lemmatizing\n",
    "    message = remove_stopwords(message) # remove stopwords\n",
    "\n",
    "    return message"
   ]
  },
  {
   "cell_type": "code",
   "execution_count": 8,
   "metadata": {},
   "outputs": [],
   "source": [
    "# Add a new column in dataframe containing clean messages\n",
    "\n",
    "data['message_clean'] = data['message'].apply(lambda x: clean_message(x))"
   ]
  },
  {
   "cell_type": "markdown",
   "metadata": {},
   "source": [
    "### Dummy variable"
   ]
  },
  {
   "cell_type": "markdown",
   "metadata": {},
   "source": [
    "Labels *ham* and *spam* are target values. We create a new dummy variable that will map ham to 0 and spam to 1."
   ]
  },
  {
   "cell_type": "code",
   "execution_count": 9,
   "metadata": {},
   "outputs": [],
   "source": [
    "# Add a new column in dataframe containing mapped labels\n",
    "\n",
    "data['label_clean'] = data.label.map({'ham':0, 'spam':1})"
   ]
  },
  {
   "cell_type": "code",
   "execution_count": 10,
   "metadata": {},
   "outputs": [
    {
     "data": {
      "text/html": [
       "<div>\n",
       "<style scoped>\n",
       "    .dataframe tbody tr th:only-of-type {\n",
       "        vertical-align: middle;\n",
       "    }\n",
       "\n",
       "    .dataframe tbody tr th {\n",
       "        vertical-align: top;\n",
       "    }\n",
       "\n",
       "    .dataframe thead th {\n",
       "        text-align: right;\n",
       "    }\n",
       "</style>\n",
       "<table border=\"1\" class=\"dataframe\">\n",
       "  <thead>\n",
       "    <tr style=\"text-align: right;\">\n",
       "      <th></th>\n",
       "      <th>label</th>\n",
       "      <th>message</th>\n",
       "      <th>message_clean</th>\n",
       "      <th>label_clean</th>\n",
       "    </tr>\n",
       "  </thead>\n",
       "  <tbody>\n",
       "    <tr>\n",
       "      <th>0</th>\n",
       "      <td>ham</td>\n",
       "      <td>Go until jurong point, crazy.. Available only ...</td>\n",
       "      <td>go jurong point crazy available bugis n great ...</td>\n",
       "      <td>0</td>\n",
       "    </tr>\n",
       "    <tr>\n",
       "      <th>1</th>\n",
       "      <td>ham</td>\n",
       "      <td>Ok lar... Joking wif u oni...</td>\n",
       "      <td>ok lar joking wif u oni</td>\n",
       "      <td>0</td>\n",
       "    </tr>\n",
       "    <tr>\n",
       "      <th>2</th>\n",
       "      <td>spam</td>\n",
       "      <td>Free entry in 2 a wkly comp to win FA Cup fina...</td>\n",
       "      <td>free entry wkly comp win fa cup final tkts st ...</td>\n",
       "      <td>1</td>\n",
       "    </tr>\n",
       "    <tr>\n",
       "      <th>3</th>\n",
       "      <td>ham</td>\n",
       "      <td>U dun say so early hor... U c already then say...</td>\n",
       "      <td>u dun say early hor u c already say</td>\n",
       "      <td>0</td>\n",
       "    </tr>\n",
       "    <tr>\n",
       "      <th>4</th>\n",
       "      <td>ham</td>\n",
       "      <td>Nah I don't think he goes to usf, he lives aro...</td>\n",
       "      <td>nah dont think go usf life around though</td>\n",
       "      <td>0</td>\n",
       "    </tr>\n",
       "    <tr>\n",
       "      <th>5</th>\n",
       "      <td>spam</td>\n",
       "      <td>FreeMsg Hey there darling it's been 3 week's n...</td>\n",
       "      <td>freemsg hey darling week word back id like fun...</td>\n",
       "      <td>1</td>\n",
       "    </tr>\n",
       "    <tr>\n",
       "      <th>6</th>\n",
       "      <td>ham</td>\n",
       "      <td>Even my brother is not like to speak with me. ...</td>\n",
       "      <td>even brother like speak treat like aid patent</td>\n",
       "      <td>0</td>\n",
       "    </tr>\n",
       "    <tr>\n",
       "      <th>7</th>\n",
       "      <td>ham</td>\n",
       "      <td>As per your request 'Melle Melle (Oru Minnamin...</td>\n",
       "      <td>per request melle melle oru minnaminunginte nu...</td>\n",
       "      <td>0</td>\n",
       "    </tr>\n",
       "    <tr>\n",
       "      <th>8</th>\n",
       "      <td>spam</td>\n",
       "      <td>WINNER!! As a valued network customer you have...</td>\n",
       "      <td>winner valued network customer selected receiv...</td>\n",
       "      <td>1</td>\n",
       "    </tr>\n",
       "    <tr>\n",
       "      <th>9</th>\n",
       "      <td>spam</td>\n",
       "      <td>Had your mobile 11 months or more? U R entitle...</td>\n",
       "      <td>mobile month u r entitled update latest colour...</td>\n",
       "      <td>1</td>\n",
       "    </tr>\n",
       "  </tbody>\n",
       "</table>\n",
       "</div>"
      ],
      "text/plain": [
       "  label                                            message  \\\n",
       "0   ham  Go until jurong point, crazy.. Available only ...   \n",
       "1   ham                      Ok lar... Joking wif u oni...   \n",
       "2  spam  Free entry in 2 a wkly comp to win FA Cup fina...   \n",
       "3   ham  U dun say so early hor... U c already then say...   \n",
       "4   ham  Nah I don't think he goes to usf, he lives aro...   \n",
       "5  spam  FreeMsg Hey there darling it's been 3 week's n...   \n",
       "6   ham  Even my brother is not like to speak with me. ...   \n",
       "7   ham  As per your request 'Melle Melle (Oru Minnamin...   \n",
       "8  spam  WINNER!! As a valued network customer you have...   \n",
       "9  spam  Had your mobile 11 months or more? U R entitle...   \n",
       "\n",
       "                                       message_clean  label_clean  \n",
       "0  go jurong point crazy available bugis n great ...            0  \n",
       "1                            ok lar joking wif u oni            0  \n",
       "2  free entry wkly comp win fa cup final tkts st ...            1  \n",
       "3                u dun say early hor u c already say            0  \n",
       "4           nah dont think go usf life around though            0  \n",
       "5  freemsg hey darling week word back id like fun...            1  \n",
       "6      even brother like speak treat like aid patent            0  \n",
       "7  per request melle melle oru minnaminunginte nu...            0  \n",
       "8  winner valued network customer selected receiv...            1  \n",
       "9  mobile month u r entitled update latest colour...            1  "
      ]
     },
     "execution_count": 10,
     "metadata": {},
     "output_type": "execute_result"
    }
   ],
   "source": [
    "# View first 10 records of the updated dataframe\n",
    "\n",
    "data.head(10)"
   ]
  },
  {
   "cell_type": "markdown",
   "metadata": {},
   "source": [
    "The updated dataframe contains two new columns: *message_clean* and *label_clean*. By comparing the *message* and *message_clean* columns, it can be seen that the message content has been cleaned. In the *label_clean* column \"ham\" has become \"0\" and \"spam\" has become \"1\"."
   ]
  },
  {
   "cell_type": "markdown",
   "metadata": {},
   "source": [
    "### Split training and test set"
   ]
  },
  {
   "cell_type": "markdown",
   "metadata": {},
   "source": [
    "Before the vectorization and dataset balancing is done, the dataset is divided into a training and test set."
   ]
  },
  {
   "cell_type": "code",
   "execution_count": 11,
   "metadata": {},
   "outputs": [],
   "source": [
    "X_train, X_test, y_train, y_test = train_test_split(data['message_clean'], \n",
    "                                                    data['label_clean'], \n",
    "                                                    test_size=0.2, \n",
    "                                                    random_state=42)"
   ]
  },
  {
   "cell_type": "code",
   "execution_count": 12,
   "metadata": {},
   "outputs": [
    {
     "name": "stdout",
     "output_type": "stream",
     "text": [
      "Train size (number of records): 4457\n",
      "Test size (number of records): 1115\n"
     ]
    }
   ],
   "source": [
    "print('Train size (number of records):',len(X_train))\n",
    "print('Test size (number of records):',len(X_test))"
   ]
  },
  {
   "cell_type": "markdown",
   "metadata": {},
   "source": [
    "### Vectorization "
   ]
  },
  {
   "cell_type": "markdown",
   "metadata": {},
   "source": [
    "To find the weighted features and convert text to numerical vectors, TF-IDF vectorizer is used.\n",
    "\n",
    "TfidfVectorizer contains parameters that can be used for data cleaning (eg lowercase, stop_words), but since data cleaning was done in the previous step, TfidfVectorizer will use the message_clean content.\n",
    "\n",
    "TfidfVectorizer contains the parameter max_features. The purpose of max_features is to limit the number of features (words) from the dataset for which we want to calculate the TF-IDF scores."
   ]
  },
  {
   "cell_type": "code",
   "execution_count": 13,
   "metadata": {},
   "outputs": [
    {
     "name": "stdout",
     "output_type": "stream",
     "text": [
      "Vocabulary size: 7000\n"
     ]
    }
   ],
   "source": [
    "# Explore the vocabulary to define max_features\n",
    "\n",
    "vectorizer = TfidfVectorizer(max_features=None) # Define tf-idf vectorizer\n",
    "vectorizer.fit(X_train) # Learn vocabulary\n",
    "\n",
    "print('Vocabulary size: {size}'.format(size=len(vectorizer.vocabulary_))) # Print vocabulary size"
   ]
  },
  {
   "cell_type": "code",
   "execution_count": 14,
   "metadata": {},
   "outputs": [],
   "source": [
    "vectorizer = TfidfVectorizer(max_features=5000) # Define tf-idf vectorizer with max_features\n",
    "X_train_vec = vectorizer.fit_transform(X_train) # Numericalize the train dataset\n",
    "X_test_vec = vectorizer.transform(X_test) # Numericalize the test dataset"
   ]
  },
  {
   "cell_type": "markdown",
   "metadata": {},
   "source": [
    "### Balancing data"
   ]
  },
  {
   "cell_type": "markdown",
   "metadata": {},
   "source": [
    "Training dataset will be balanced using the SMOTE method. In other words, upsampling of \"spam\" records will be performed as their occurrence is significantly less frequent than \"ham\" records."
   ]
  },
  {
   "cell_type": "code",
   "execution_count": 15,
   "metadata": {},
   "outputs": [
    {
     "data": {
      "text/plain": [
       "ham     3859\n",
       "spam     598\n",
       "Name: label_clean, dtype: int64"
      ]
     },
     "execution_count": 15,
     "metadata": {},
     "output_type": "execute_result"
    }
   ],
   "source": [
    "# View the number of messages per label in training set\n",
    "\n",
    "y_train.value_counts().rename({0: 'ham', 1: 'spam'})"
   ]
  },
  {
   "cell_type": "code",
   "execution_count": 16,
   "metadata": {},
   "outputs": [],
   "source": [
    "smote = SMOTE(random_state=42) # Defining SMOTE function\n",
    "X_train_us, y_train_us = smote.fit_resample(X_train_vec, y_train) # Applying SMOTE function on X and y"
   ]
  },
  {
   "cell_type": "code",
   "execution_count": 17,
   "metadata": {},
   "outputs": [
    {
     "data": {
      "text/plain": [
       "spam    3859\n",
       "ham     3859\n",
       "Name: label_clean, dtype: int64"
      ]
     },
     "execution_count": 17,
     "metadata": {},
     "output_type": "execute_result"
    }
   ],
   "source": [
    "y_train_us.value_counts().rename({0: 'ham', 1: 'spam'}) # View the number of messages per label in training set after SMOTE operation"
   ]
  },
  {
   "cell_type": "code",
   "execution_count": 51,
   "metadata": {},
   "outputs": [
    {
     "data": {
      "image/png": "[encoded data removed]",
      "text/plain": [
       "<Figure size 500x500 with 1 Axes>"
      ]
     },
     "metadata": {},
     "output_type": "display_data"
    }
   ],
   "source": [
    "# Result visualization\n",
    "\n",
    "label_counts_us = y_train_us.value_counts()\n",
    "total_us = len(y_train_us)\n",
    "explode = (0, 0.05)\n",
    "colors = ['#39a78e','#ff4500']\n",
    "\n",
    "fig= plt.figure(figsize=(5,5))\n",
    "\n",
    "plt.pie(\n",
    "    label_counts_us, \n",
    "    labels=label_counts_us.rename({0: 'ham', 1: 'spam'}).index, \n",
    "    autopct=lambda x: '{:.2f}%\\n({:.0f})'.format(x, total_us*x/100),\n",
    "    colors=colors,\n",
    "    explode=explode, \n",
    "    startangle=60, \n",
    "    textprops={'fontsize': 12}\n",
    ");"
   ]
  },
  {
   "cell_type": "markdown",
   "metadata": {},
   "source": [
    "## Machine Learning Algorithms"
   ]
  },
  {
   "cell_type": "markdown",
   "metadata": {},
   "source": [
    "The following machine learning algorithms will be used for classification:\n",
    "- Random Forest\n",
    "- Support Vector Classification (SVC)\n",
    "- Naive Bayes Classifier\n",
    "- Long short-term memory (LSTM)"
   ]
  },
  {
   "cell_type": "markdown",
   "metadata": {},
   "source": [
    "### Random Forest"
   ]
  },
  {
   "cell_type": "code",
   "execution_count": 19,
   "metadata": {},
   "outputs": [],
   "source": [
    "# Define the Random forest classifier\n",
    "\n",
    "rf = RandomForestClassifier(random_state = 42) "
   ]
  },
  {
   "cell_type": "markdown",
   "metadata": {},
   "source": [
    "In order to get more general results, we will use method RandomizedSearchCV to search for optimal hyperparameters."
   ]
  },
  {
   "cell_type": "code",
   "execution_count": 20,
   "metadata": {},
   "outputs": [],
   "source": [
    "# Define search space\n",
    "\n",
    "n_estimators = [int(x) for x in np.linspace(start = 100, stop = 300, num = 5)]\n",
    "max_features = ['sqrt']\n",
    "max_depth = [int(x) for x in np.linspace(10, 30, num = 5)]\n",
    "min_samples_split = [5, 10]\n",
    "min_samples_leaf = [2, 3, 4]\n",
    "bootstrap = [True, False]\n",
    "\n",
    "rf_grid_param = {'n_estimators': n_estimators,\n",
    "               'max_features': max_features,\n",
    "               'max_depth': max_depth,\n",
    "               'min_samples_split': min_samples_split,\n",
    "               'min_samples_leaf': min_samples_leaf,\n",
    "               'bootstrap': bootstrap}"
   ]
  },
  {
   "cell_type": "code",
   "execution_count": 21,
   "metadata": {},
   "outputs": [],
   "source": [
    "# Define search\n",
    "\n",
    "rf_rgrid = RandomizedSearchCV(\n",
    "    estimator = rf, # Define estimator object \n",
    "    param_distributions = rf_grid_param, # Define lists of parameters\n",
    "    scoring = 'f1', # Define scoring\n",
    "    n_iter = 5, # Define the number of different combinations\n",
    "    cv = 5, # Define StratifiedKFold\n",
    "    verbose = 0, # Define verbosity\n",
    "    random_state = 42, # Produce the same results across different calls\n",
    "    n_jobs = -1 # Define number of jobs to run in parallel\n",
    ") "
   ]
  },
  {
   "cell_type": "code",
   "execution_count": 22,
   "metadata": {},
   "outputs": [],
   "source": [
    "# Execute search\n",
    "\n",
    "rf_rgrid_start = time() # Time before fitting\n",
    "rf_rgrid.fit(X_train_us, y_train_us) # Fitting\n",
    "rf_rgrid_end = time() # Time after fitting"
   ]
  },
  {
   "cell_type": "code",
   "execution_count": 23,
   "metadata": {},
   "outputs": [],
   "source": [
    "# Make prediction\n",
    "\n",
    "rf_rgrid_prediction = rf_rgrid.predict(X_test_vec)"
   ]
  },
  {
   "cell_type": "code",
   "execution_count": 24,
   "metadata": {},
   "outputs": [
    {
     "data": {
      "text/html": [
       "<div>\n",
       "<style scoped>\n",
       "    .dataframe tbody tr th:only-of-type {\n",
       "        vertical-align: middle;\n",
       "    }\n",
       "\n",
       "    .dataframe tbody tr th {\n",
       "        vertical-align: top;\n",
       "    }\n",
       "\n",
       "    .dataframe thead th {\n",
       "        text-align: right;\n",
       "    }\n",
       "</style>\n",
       "<table border=\"1\" class=\"dataframe\">\n",
       "  <thead>\n",
       "    <tr style=\"text-align: right;\">\n",
       "      <th></th>\n",
       "      <th>HAM Prediction</th>\n",
       "      <th>SPAM Prediction</th>\n",
       "    </tr>\n",
       "  </thead>\n",
       "  <tbody>\n",
       "    <tr>\n",
       "      <th>HAM Class</th>\n",
       "      <td>966</td>\n",
       "      <td>0</td>\n",
       "    </tr>\n",
       "    <tr>\n",
       "      <th>SPAM Class</th>\n",
       "      <td>29</td>\n",
       "      <td>120</td>\n",
       "    </tr>\n",
       "  </tbody>\n",
       "</table>\n",
       "</div>"
      ],
      "text/plain": [
       "            HAM Prediction  SPAM Prediction\n",
       "HAM Class              966                0\n",
       "SPAM Class              29              120"
      ]
     },
     "metadata": {},
     "output_type": "display_data"
    },
    {
     "name": "stdout",
     "output_type": "stream",
     "text": [
      "Best Score: 0.98\n",
      "Best Hyperparameters: {'n_estimators': 150, 'min_samples_split': 10, 'min_samples_leaf': 4, 'max_features': 'sqrt', 'max_depth': 25, 'bootstrap': False}\n",
      "Train time: 26.44 s\n"
     ]
    }
   ],
   "source": [
    "def display_results(model, y, prediction, start_time, end_time):\n",
    "    confusion_matrix_plot = confusion_matrix(y, prediction)\n",
    "    display(pd.DataFrame(data = confusion_matrix_plot, columns = ['HAM Prediction', 'SPAM Prediction'],\n",
    "            index = ['HAM Class', 'SPAM Class']))\n",
    "    train_time = (end_time - start_time) # time in seconds\n",
    "    \n",
    "    if hasattr(model, 'best_score_'):\n",
    "        print('Best Score: {:.2f}'.format(model.best_score_))\n",
    "    if hasattr(model, 'best_params_'):\n",
    "        print('Best Hyperparameters:',model.best_params_)\n",
    "    print('Train time: {:.2f} s'.format(train_time))\n",
    "    \n",
    "    return\n",
    "\n",
    "display_results(rf_rgrid, y_test, rf_rgrid_prediction,rf_rgrid_start,rf_rgrid_end)"
   ]
  },
  {
   "cell_type": "markdown",
   "metadata": {},
   "source": [
    "### Support Vector Classification (SVC)"
   ]
  },
  {
   "cell_type": "code",
   "execution_count": 25,
   "metadata": {},
   "outputs": [],
   "source": [
    "# Define SVC classifier\n",
    "\n",
    "svc = svm.SVC(kernel=\"linear\", C = 1) "
   ]
  },
  {
   "cell_type": "markdown",
   "metadata": {},
   "source": [
    "In order to get more general results, we will use method GridSearchCV to search for optimal hyperparameters."
   ]
  },
  {
   "cell_type": "code",
   "execution_count": 26,
   "metadata": {},
   "outputs": [],
   "source": [
    "# Define search space\n",
    "\n",
    "svc_grid_param = {\"C\": [0.1, 1, 10, 100, 1000]}"
   ]
  },
  {
   "cell_type": "code",
   "execution_count": 27,
   "metadata": {},
   "outputs": [],
   "source": [
    "# Define search\n",
    "\n",
    "svc_grid = GridSearchCV(estimator = svc, # Define estimator object \n",
    "                        param_grid = svc_grid_param, # Define lists of parameters\n",
    "                        scoring= 'f1', # Define scoring\n",
    "                        cv = 5, # Define StratifiedKFold\n",
    "                        verbose = 0, # Define verbosity\n",
    "                        return_train_score=True, # Include training scores\n",
    "                        n_jobs = -1) # Define number of jobs to run in parallel"
   ]
  },
  {
   "cell_type": "code",
   "execution_count": 28,
   "metadata": {},
   "outputs": [],
   "source": [
    "# Execute search\n",
    "\n",
    "svc_grid_start = time() # Time before fitting\n",
    "svc_grid.fit(X_train_us, y_train_us) # Fitting\n",
    "svc_grid_end = time() # Time after fitting"
   ]
  },
  {
   "cell_type": "code",
   "execution_count": 29,
   "metadata": {},
   "outputs": [],
   "source": [
    "# Make prediction\n",
    "\n",
    "svc_prediction = svc_grid.predict(X_test_vec)"
   ]
  },
  {
   "cell_type": "code",
   "execution_count": 30,
   "metadata": {},
   "outputs": [
    {
     "data": {
      "text/html": [
       "<div>\n",
       "<style scoped>\n",
       "    .dataframe tbody tr th:only-of-type {\n",
       "        vertical-align: middle;\n",
       "    }\n",
       "\n",
       "    .dataframe tbody tr th {\n",
       "        vertical-align: top;\n",
       "    }\n",
       "\n",
       "    .dataframe thead th {\n",
       "        text-align: right;\n",
       "    }\n",
       "</style>\n",
       "<table border=\"1\" class=\"dataframe\">\n",
       "  <thead>\n",
       "    <tr style=\"text-align: right;\">\n",
       "      <th></th>\n",
       "      <th>HAM Prediction</th>\n",
       "      <th>SPAM Prediction</th>\n",
       "    </tr>\n",
       "  </thead>\n",
       "  <tbody>\n",
       "    <tr>\n",
       "      <th>HAM Class</th>\n",
       "      <td>962</td>\n",
       "      <td>4</td>\n",
       "    </tr>\n",
       "    <tr>\n",
       "      <th>SPAM Class</th>\n",
       "      <td>14</td>\n",
       "      <td>135</td>\n",
       "    </tr>\n",
       "  </tbody>\n",
       "</table>\n",
       "</div>"
      ],
      "text/plain": [
       "            HAM Prediction  SPAM Prediction\n",
       "HAM Class              962                4\n",
       "SPAM Class              14              135"
      ]
     },
     "metadata": {},
     "output_type": "display_data"
    },
    {
     "name": "stdout",
     "output_type": "stream",
     "text": [
      "Best Score: 1.00\n",
      "Best Hyperparameters: {'C': 10}\n",
      "Train time: 28.14 s\n"
     ]
    }
   ],
   "source": [
    "display_results(svc_grid, y_test, svc_prediction,svc_grid_start,svc_grid_end)"
   ]
  },
  {
   "cell_type": "markdown",
   "metadata": {},
   "source": [
    "### Naive Bayes Classifier"
   ]
  },
  {
   "cell_type": "code",
   "execution_count": 31,
   "metadata": {},
   "outputs": [],
   "source": [
    "# Define Naive Bayes classifier\n",
    "\n",
    "nbc = MultinomialNB() "
   ]
  },
  {
   "cell_type": "markdown",
   "metadata": {},
   "source": [
    "In order to get more general results, we will use method GridSearchCV to search for optimal hyperparameters."
   ]
  },
  {
   "cell_type": "code",
   "execution_count": 32,
   "metadata": {},
   "outputs": [],
   "source": [
    "# Define search space\n",
    "\n",
    "nbc_grid_param = {\"alpha\": [0.2,1,2,5,10], \n",
    "                  \"fit_prior\": [True, False]}"
   ]
  },
  {
   "cell_type": "code",
   "execution_count": 33,
   "metadata": {},
   "outputs": [],
   "source": [
    "# Define search\n",
    "\n",
    "nbc_grid = GridSearchCV(estimator = MultinomialNB(), # Define estimator object \n",
    "                        param_grid = nbc_grid_param, # Define lists of parameters\n",
    "                        scoring= 'f1', # Define scoring\n",
    "                        cv = 5, # Define StratifiedKFold\n",
    "                        verbose = 0, # Define verbosity\n",
    "                        return_train_score=True, # Include training scores\n",
    "                        n_jobs = -1) # Define number of jobs to run in parallel"
   ]
  },
  {
   "cell_type": "code",
   "execution_count": 34,
   "metadata": {},
   "outputs": [],
   "source": [
    "# Execute search\n",
    "\n",
    "nbc_grid_start = time() # Time before fitting\n",
    "nbc_grid.fit(X_train_us,y_train_us) # Fitting\n",
    "nbc_grid_end = time() # Time after fitting"
   ]
  },
  {
   "cell_type": "code",
   "execution_count": 35,
   "metadata": {},
   "outputs": [],
   "source": [
    "# Make prediction\n",
    "\n",
    "nbc_prediction = nbc_grid.predict(X_test_vec)"
   ]
  },
  {
   "cell_type": "code",
   "execution_count": 36,
   "metadata": {},
   "outputs": [
    {
     "data": {
      "text/html": [
       "<div>\n",
       "<style scoped>\n",
       "    .dataframe tbody tr th:only-of-type {\n",
       "        vertical-align: middle;\n",
       "    }\n",
       "\n",
       "    .dataframe tbody tr th {\n",
       "        vertical-align: top;\n",
       "    }\n",
       "\n",
       "    .dataframe thead th {\n",
       "        text-align: right;\n",
       "    }\n",
       "</style>\n",
       "<table border=\"1\" class=\"dataframe\">\n",
       "  <thead>\n",
       "    <tr style=\"text-align: right;\">\n",
       "      <th></th>\n",
       "      <th>HAM Prediction</th>\n",
       "      <th>SPAM Prediction</th>\n",
       "    </tr>\n",
       "  </thead>\n",
       "  <tbody>\n",
       "    <tr>\n",
       "      <th>HAM Class</th>\n",
       "      <td>941</td>\n",
       "      <td>25</td>\n",
       "    </tr>\n",
       "    <tr>\n",
       "      <th>SPAM Class</th>\n",
       "      <td>10</td>\n",
       "      <td>139</td>\n",
       "    </tr>\n",
       "  </tbody>\n",
       "</table>\n",
       "</div>"
      ],
      "text/plain": [
       "            HAM Prediction  SPAM Prediction\n",
       "HAM Class              941               25\n",
       "SPAM Class              10              139"
      ]
     },
     "metadata": {},
     "output_type": "display_data"
    },
    {
     "name": "stdout",
     "output_type": "stream",
     "text": [
      "Best Score: 0.98\n",
      "Best Hyperparameters: {'alpha': 0.2, 'fit_prior': False}\n",
      "Train time: 0.30 s\n"
     ]
    }
   ],
   "source": [
    "display_results(nbc_grid, y_test, nbc_prediction,nbc_grid_start,nbc_grid_end)"
   ]
  },
  {
   "cell_type": "markdown",
   "metadata": {},
   "source": [
    "### LSTM"
   ]
  },
  {
   "cell_type": "markdown",
   "metadata": {},
   "source": [
    "The following algorithm will be executed in a different way, using the keras library. LSTM is an artificial neural network that is effective in memorizing important information.\n",
    "\n",
    "Previous split into the training and test set will be further divided into training test and validation set, after which tokenization will be applied, followed by padding."
   ]
  },
  {
   "cell_type": "code",
   "execution_count": 37,
   "metadata": {},
   "outputs": [],
   "source": [
    "# Split X_test and y_test into validation and test sets\n",
    "\n",
    "X_val, X_test, Y_val, Y_test = train_test_split(X_test, \n",
    "                                                y_test,\n",
    "                                                test_size=0.5,\n",
    "                                                random_state=42)"
   ]
  },
  {
   "cell_type": "code",
   "execution_count": 38,
   "metadata": {},
   "outputs": [],
   "source": [
    "# Tokenize X_train, X_val, X_test\n",
    "\n",
    "tokenizer = Tokenizer(num_words=5000) # Define tokenizer with 5000 words as in TfidfVectorizer\n",
    "\n",
    "tokenizer.fit_on_texts(X_train) # Apply tokenizer on X_train\n",
    "tokenizer.fit_on_texts(X_val) # Apply tokenizer on X_val\n",
    "tokenizer.fit_on_texts(X_test) # Apply tokenizer on X_test"
   ]
  },
  {
   "cell_type": "code",
   "execution_count": 39,
   "metadata": {},
   "outputs": [],
   "source": [
    "# Transform each message to a sequence of integers\n",
    "\n",
    "X_train_sequences = tokenizer.texts_to_sequences(X_train)\n",
    "X_val_sequences = tokenizer.texts_to_sequences(X_val)\n",
    "X_test_sequences = tokenizer.texts_to_sequences(X_test)"
   ]
  },
  {
   "cell_type": "code",
   "execution_count": 40,
   "metadata": {},
   "outputs": [
    {
     "data": {
      "image/png": "[encoded data removed]",
      "text/plain": [
       "<Figure size 1500x200 with 1 Axes>"
      ]
     },
     "metadata": {},
     "output_type": "display_data"
    }
   ],
   "source": [
    "# Analyze the number of words per sentence\n",
    "\n",
    "result = [len(i) for i in X_train_sequences]\n",
    "\n",
    "plt.figure(figsize = (15, 2))\n",
    "plt.boxplot(result, vert = False)\n",
    "plt.xlabel('Message length (in words)')\n",
    "plt.show()"
   ]
  },
  {
   "cell_type": "markdown",
   "metadata": {},
   "source": [
    "The figure above shows that the largest number of messages in the training set has less than 50 words, so 50 will be used as the maximum message length."
   ]
  },
  {
   "cell_type": "code",
   "execution_count": 41,
   "metadata": {},
   "outputs": [],
   "source": [
    "# Padding\n",
    "\n",
    "X_train_message_pad = pad_sequences(X_train_sequences, maxlen=50)\n",
    "X_val_message_pad = pad_sequences(X_val_sequences, maxlen=50)\n",
    "X_test_message_pad = pad_sequences(X_test_sequences, maxlen=50)"
   ]
  },
  {
   "cell_type": "markdown",
   "metadata": {},
   "source": [
    "As can be seen earlier, the training set is not balanced. Therefore, the training set will be balanced using the SMOTE method."
   ]
  },
  {
   "cell_type": "code",
   "execution_count": 42,
   "metadata": {},
   "outputs": [],
   "source": [
    "smote = SMOTE(random_state=42) # Define SMOTE function\n",
    "X_train_ann, y_train_ann = smote.fit_resample(X_train_message_pad, y_train) # Applying SMOTE function on X and y"
   ]
  },
  {
   "cell_type": "code",
   "execution_count": 43,
   "metadata": {},
   "outputs": [
    {
     "data": {
      "text/plain": [
       "spam    3859\n",
       "ham     3859\n",
       "Name: label_clean, dtype: int64"
      ]
     },
     "execution_count": 43,
     "metadata": {},
     "output_type": "execute_result"
    }
   ],
   "source": [
    "y_train_ann.value_counts().rename({0: 'ham', 1: 'spam'})"
   ]
  },
  {
   "cell_type": "code",
   "execution_count": 44,
   "metadata": {},
   "outputs": [],
   "source": [
    "# Build network structure\n",
    "\n",
    "ann = Sequential()\n",
    "\n",
    "ann.add(Embedding(input_dim=5000, # Size of the input vocabulary\n",
    "                    output_dim=100, # Size of the embadding vector (tipically between 100-300)\n",
    "                    input_length=50)) # Number of words\n",
    "\n",
    "ann.add(LSTM(units=64)) # Abitrary size\n",
    "\n",
    "ann.add(Dense(1, activation='sigmoid')) # Binary classification"
   ]
  },
  {
   "cell_type": "code",
   "execution_count": 50,
   "metadata": {},
   "outputs": [],
   "source": [
    "# Compile the model\n",
    "\n",
    "ann.compile(optimizer='adam', # Define optimizer\n",
    "              loss='binary_crossentropy', # Define loss\n",
    "              metrics=['accuracy']) # Define metrics"
   ]
  },
  {
   "cell_type": "code",
   "execution_count": 46,
   "metadata": {},
   "outputs": [],
   "source": [
    "# Train the model\n",
    "\n",
    "ann_start = time() # Time before fitting\n",
    "\n",
    "ann.fit(X_train_ann,\n",
    "          y_train_ann,\n",
    "          validation_data = (X_val_message_pad,Y_val),\n",
    "          epochs=10,\n",
    "          verbose=0)\n",
    "\n",
    "ann_end = time() # Time after fitting"
   ]
  },
  {
   "cell_type": "code",
   "execution_count": 47,
   "metadata": {},
   "outputs": [
    {
     "name": "stdout",
     "output_type": "stream",
     "text": [
      "18/18 [==============================] - 2s 22ms/step\n"
     ]
    }
   ],
   "source": [
    "# Make prediction\n",
    "\n",
    "ann_prediction=ann.predict(X_test_message_pad)\n",
    "ann_prediction=(ann_prediction>0.5) # If ann_prediction is larger than 0.5 it returns true else false"
   ]
  },
  {
   "cell_type": "code",
   "execution_count": 48,
   "metadata": {},
   "outputs": [
    {
     "data": {
      "text/html": [
       "<div>\n",
       "<style scoped>\n",
       "    .dataframe tbody tr th:only-of-type {\n",
       "        vertical-align: middle;\n",
       "    }\n",
       "\n",
       "    .dataframe tbody tr th {\n",
       "        vertical-align: top;\n",
       "    }\n",
       "\n",
       "    .dataframe thead th {\n",
       "        text-align: right;\n",
       "    }\n",
       "</style>\n",
       "<table border=\"1\" class=\"dataframe\">\n",
       "  <thead>\n",
       "    <tr style=\"text-align: right;\">\n",
       "      <th></th>\n",
       "      <th>HAM Prediction</th>\n",
       "      <th>SPAM Prediction</th>\n",
       "    </tr>\n",
       "  </thead>\n",
       "  <tbody>\n",
       "    <tr>\n",
       "      <th>HAM Class</th>\n",
       "      <td>426</td>\n",
       "      <td>55</td>\n",
       "    </tr>\n",
       "    <tr>\n",
       "      <th>SPAM Class</th>\n",
       "      <td>2</td>\n",
       "      <td>75</td>\n",
       "    </tr>\n",
       "  </tbody>\n",
       "</table>\n",
       "</div>"
      ],
      "text/plain": [
       "            HAM Prediction  SPAM Prediction\n",
       "HAM Class              426               55\n",
       "SPAM Class               2               75"
      ]
     },
     "metadata": {},
     "output_type": "display_data"
    },
    {
     "name": "stdout",
     "output_type": "stream",
     "text": [
      "Train time: 100.23 s\n"
     ]
    }
   ],
   "source": [
    "display_results(ann, Y_test, ann_prediction,ann_start,ann_end)"
   ]
  },
  {
   "cell_type": "markdown",
   "metadata": {},
   "source": [
    "## Conclusion"
   ]
  },
  {
   "cell_type": "code",
   "execution_count": 49,
   "metadata": {},
   "outputs": [
    {
     "name": "stdout",
     "output_type": "stream",
     "text": [
      "Classification report (Random forrest):\n",
      "              precision    recall  f1-score   support\n",
      "\n",
      "           0       0.97      1.00      0.99       966\n",
      "           1       1.00      0.81      0.89       149\n",
      "\n",
      "    accuracy                           0.97      1115\n",
      "   macro avg       0.99      0.90      0.94      1115\n",
      "weighted avg       0.97      0.97      0.97      1115\n",
      "\n",
      "\n",
      "Classification report (SVC):\n",
      "              precision    recall  f1-score   support\n",
      "\n",
      "           0       0.99      1.00      0.99       966\n",
      "           1       0.97      0.91      0.94       149\n",
      "\n",
      "    accuracy                           0.98      1115\n",
      "   macro avg       0.98      0.95      0.96      1115\n",
      "weighted avg       0.98      0.98      0.98      1115\n",
      "\n",
      "\n",
      "Classification report (Naive Bayes):\n",
      "              precision    recall  f1-score   support\n",
      "\n",
      "           0       0.99      0.97      0.98       966\n",
      "           1       0.85      0.93      0.89       149\n",
      "\n",
      "    accuracy                           0.97      1115\n",
      "   macro avg       0.92      0.95      0.93      1115\n",
      "weighted avg       0.97      0.97      0.97      1115\n",
      "\n",
      "\n",
      "Classification report (LSTM):\n",
      "              precision    recall  f1-score   support\n",
      "\n",
      "           0       1.00      0.89      0.94       481\n",
      "           1       0.58      0.97      0.72        77\n",
      "\n",
      "    accuracy                           0.90       558\n",
      "   macro avg       0.79      0.93      0.83       558\n",
      "weighted avg       0.94      0.90      0.91       558\n",
      "\n",
      "\n"
     ]
    }
   ],
   "source": [
    "# Display classification report for each algorithm\n",
    "\n",
    "algorithms = {\n",
    "    'Random forrest': {'prediction': rf_rgrid_prediction, 'classification': y_test},\n",
    "    'SVC': {'prediction': svc_prediction, 'classification': y_test},\n",
    "    'Naive Bayes': {'prediction': nbc_prediction, 'classification': y_test},\n",
    "    'LSTM': {'prediction': ann_prediction, 'classification': Y_test},\n",
    "}\n",
    "\n",
    "for algorithm in algorithms.keys():\n",
    "    print('Classification report ({algorithm}):'.format(algorithm=algorithm))\n",
    "    print(classification_report(algorithms[algorithm]['classification'],algorithms[algorithm]['prediction']))\n",
    "    print()"
   ]
  },
  {
   "cell_type": "markdown",
   "metadata": {},
   "source": [
    "Taking into account the training time and the results for recall and precision, in my opinion SVC is the most optimal model of the used models. However, LSTM gives the best results in recognizing \"spam\" messages when the messages are truly \"spam\"."
   ]
  }
 ],
 "metadata": {
  "kernelspec": {
   "display_name": "myenv",
   "language": "python",
   "name": "myenv"
  },
  "language_info": {
   "codemirror_mode": {
    "name": "ipython",
    "version": 3
   },
   "file_extension": ".py",
   "mimetype": "text/x-python",
   "name": "python",
   "nbconvert_exporter": "python",
   "pygments_lexer": "ipython3",
   "version": "3.8.15"
  }
 },
 "nbformat": 4,
 "nbformat_minor": 2
}
